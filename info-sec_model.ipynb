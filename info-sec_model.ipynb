{
 "cells": [
  {
   "cell_type": "markdown",
   "id": "b94874ac-8c17-4bf8-bf81-9b6b3c12b06d",
   "metadata": {},
   "source": [
    "**PSWD STRENGTH CHECKER**"
   ]
  },
  {
   "cell_type": "markdown",
   "id": "08ded196-880f-4672-8366-80c56999a28f",
   "metadata": {},
   "source": [
    "Installing and Importing dependencies "
   ]
  },
  {
   "cell_type": "code",
   "execution_count": 3,
   "id": "acd6edcb-adc5-4c4e-8123-33f9280c5e41",
   "metadata": {},
   "outputs": [
    {
     "name": "stdout",
     "output_type": "stream",
     "text": [
      "Collecting pandas\n",
      "  Downloading pandas-2.1.1-cp39-cp39-win_amd64.whl (10.8 MB)\n",
      "Requirement already satisfied: python-dateutil>=2.8.2 in f:\\coding\\projects\\infosec (pswd model)\\.env\\lib\\site-packages (from pandas) (2.8.2)\n",
      "Collecting numpy>=1.22.4; python_version < \"3.11\"\n",
      "  Downloading numpy-1.26.1-cp39-cp39-win_amd64.whl (15.8 MB)\n",
      "Collecting pytz>=2020.1\n",
      "  Downloading pytz-2023.3.post1-py2.py3-none-any.whl (502 kB)\n",
      "Collecting tzdata>=2022.1\n",
      "  Downloading tzdata-2023.3-py2.py3-none-any.whl (341 kB)\n",
      "Requirement already satisfied: six>=1.5 in f:\\coding\\projects\\infosec (pswd model)\\.env\\lib\\site-packages (from python-dateutil>=2.8.2->pandas) (1.16.0)\n",
      "Installing collected packages: numpy, pytz, tzdata, pandas\n",
      "Successfully installed numpy-1.26.1 pandas-2.1.1 pytz-2023.3.post1 tzdata-2023.3\n"
     ]
    },
    {
     "name": "stderr",
     "output_type": "stream",
     "text": [
      "WARNING: You are using pip version 20.2.3; however, version 23.3 is available.\n",
      "You should consider upgrading via the 'f:\\coding\\projects\\infosec (pswd model)\\.env\\scripts\\python.exe -m pip install --upgrade pip' command.\n"
     ]
    }
   ],
   "source": [
    "!pip install pandas"
   ]
  },
  {
   "cell_type": "code",
   "execution_count": 5,
   "id": "a858633f-ca23-43d0-873f-862d69b31f57",
   "metadata": {},
   "outputs": [
    {
     "name": "stdout",
     "output_type": "stream",
     "text": [
      "Collecting seaborn\n",
      "  Downloading seaborn-0.13.0-py3-none-any.whl (294 kB)\n",
      "Requirement already satisfied: numpy!=1.24.0,>=1.20 in f:\\coding\\projects\\infosec (pswd model)\\.env\\lib\\site-packages (from seaborn) (1.26.1)\n",
      "Requirement already satisfied: pandas>=1.2 in f:\\coding\\projects\\infosec (pswd model)\\.env\\lib\\site-packages (from seaborn) (2.1.1)\n",
      "Collecting matplotlib!=3.6.1,>=3.3\n",
      "  Downloading matplotlib-3.8.0-cp39-cp39-win_amd64.whl (7.6 MB)\n",
      "Requirement already satisfied: pytz>=2020.1 in f:\\coding\\projects\\infosec (pswd model)\\.env\\lib\\site-packages (from pandas>=1.2->seaborn) (2023.3.post1)\n",
      "Requirement already satisfied: tzdata>=2022.1 in f:\\coding\\projects\\infosec (pswd model)\\.env\\lib\\site-packages (from pandas>=1.2->seaborn) (2023.3)\n",
      "Requirement already satisfied: python-dateutil>=2.8.2 in f:\\coding\\projects\\infosec (pswd model)\\.env\\lib\\site-packages (from pandas>=1.2->seaborn) (2.8.2)\n",
      "Requirement already satisfied: packaging>=20.0 in f:\\coding\\projects\\infosec (pswd model)\\.env\\lib\\site-packages (from matplotlib!=3.6.1,>=3.3->seaborn) (23.2)\n",
      "Collecting fonttools>=4.22.0\n",
      "  Downloading fonttools-4.43.1-cp39-cp39-win_amd64.whl (2.1 MB)\n",
      "Collecting contourpy>=1.0.1\n",
      "  Downloading contourpy-1.1.1-cp39-cp39-win_amd64.whl (435 kB)\n",
      "Collecting cycler>=0.10\n",
      "  Downloading cycler-0.12.1-py3-none-any.whl (8.3 kB)\n",
      "Collecting pillow>=6.2.0\n",
      "  Downloading Pillow-10.1.0-cp39-cp39-win_amd64.whl (2.6 MB)\n",
      "Collecting pyparsing>=2.3.1\n",
      "  Downloading pyparsing-3.1.1-py3-none-any.whl (103 kB)\n",
      "Collecting kiwisolver>=1.0.1\n",
      "  Downloading kiwisolver-1.4.5-cp39-cp39-win_amd64.whl (56 kB)\n",
      "Collecting importlib-resources>=3.2.0; python_version < \"3.10\"\n",
      "  Downloading importlib_resources-6.1.0-py3-none-any.whl (33 kB)\n",
      "Requirement already satisfied: six>=1.5 in f:\\coding\\projects\\infosec (pswd model)\\.env\\lib\\site-packages (from python-dateutil>=2.8.2->pandas>=1.2->seaborn) (1.16.0)\n",
      "Requirement already satisfied: zipp>=3.1.0; python_version < \"3.10\" in f:\\coding\\projects\\infosec (pswd model)\\.env\\lib\\site-packages (from importlib-resources>=3.2.0; python_version < \"3.10\"->matplotlib!=3.6.1,>=3.3->seaborn) (3.17.0)\n",
      "Installing collected packages: fonttools, contourpy, cycler, pillow, pyparsing, kiwisolver, importlib-resources, matplotlib, seaborn\n",
      "Successfully installed contourpy-1.1.1 cycler-0.12.1 fonttools-4.43.1 importlib-resources-6.1.0 kiwisolver-1.4.5 matplotlib-3.8.0 pillow-10.1.0 pyparsing-3.1.1 seaborn-0.13.0\n"
     ]
    },
    {
     "name": "stderr",
     "output_type": "stream",
     "text": [
      "WARNING: You are using pip version 20.2.3; however, version 23.3 is available.\n",
      "You should consider upgrading via the 'f:\\coding\\projects\\infosec (pswd model)\\.env\\scripts\\python.exe -m pip install --upgrade pip' command.\n"
     ]
    }
   ],
   "source": [
    "!pip install seaborn"
   ]
  },
  {
   "cell_type": "code",
   "execution_count": 6,
   "id": "68c10f73-b145-4f3c-8d66-a698c2683549",
   "metadata": {},
   "outputs": [
    {
     "name": "stdout",
     "output_type": "stream",
     "text": [
      "Requirement already satisfied: matplotlib in f:\\coding\\projects\\infosec (pswd model)\\.env\\lib\\site-packages (3.8.0)\n",
      "Requirement already satisfied: cycler>=0.10 in f:\\coding\\projects\\infosec (pswd model)\\.env\\lib\\site-packages (from matplotlib) (0.12.1)\n",
      "Requirement already satisfied: contourpy>=1.0.1 in f:\\coding\\projects\\infosec (pswd model)\\.env\\lib\\site-packages (from matplotlib) (1.1.1)\n",
      "Requirement already satisfied: pyparsing>=2.3.1 in f:\\coding\\projects\\infosec (pswd model)\\.env\\lib\\site-packages (from matplotlib) (3.1.1)\n",
      "Requirement already satisfied: fonttools>=4.22.0 in f:\\coding\\projects\\infosec (pswd model)\\.env\\lib\\site-packages (from matplotlib) (4.43.1)\n",
      "Requirement already satisfied: python-dateutil>=2.7 in f:\\coding\\projects\\infosec (pswd model)\\.env\\lib\\site-packages (from matplotlib) (2.8.2)\n",
      "Requirement already satisfied: packaging>=20.0 in f:\\coding\\projects\\infosec (pswd model)\\.env\\lib\\site-packages (from matplotlib) (23.2)\n",
      "Requirement already satisfied: numpy<2,>=1.21 in f:\\coding\\projects\\infosec (pswd model)\\.env\\lib\\site-packages (from matplotlib) (1.26.1)\n",
      "Requirement already satisfied: kiwisolver>=1.0.1 in f:\\coding\\projects\\infosec (pswd model)\\.env\\lib\\site-packages (from matplotlib) (1.4.5)\n",
      "Requirement already satisfied: pillow>=6.2.0 in f:\\coding\\projects\\infosec (pswd model)\\.env\\lib\\site-packages (from matplotlib) (10.1.0)\n",
      "Requirement already satisfied: importlib-resources>=3.2.0; python_version < \"3.10\" in f:\\coding\\projects\\infosec (pswd model)\\.env\\lib\\site-packages (from matplotlib) (6.1.0)\n",
      "Requirement already satisfied: six>=1.5 in f:\\coding\\projects\\infosec (pswd model)\\.env\\lib\\site-packages (from python-dateutil>=2.7->matplotlib) (1.16.0)\n",
      "Requirement already satisfied: zipp>=3.1.0; python_version < \"3.10\" in f:\\coding\\projects\\infosec (pswd model)\\.env\\lib\\site-packages (from importlib-resources>=3.2.0; python_version < \"3.10\"->matplotlib) (3.17.0)\n"
     ]
    },
    {
     "name": "stderr",
     "output_type": "stream",
     "text": [
      "WARNING: You are using pip version 20.2.3; however, version 23.3 is available.\n",
      "You should consider upgrading via the 'f:\\coding\\projects\\infosec (pswd model)\\.env\\scripts\\python.exe -m pip install --upgrade pip' command.\n"
     ]
    }
   ],
   "source": [
    "!pip install matplotlib"
   ]
  },
  {
   "cell_type": "code",
   "execution_count": 10,
   "id": "de9da0da-996f-40eb-9c25-f29ec51d0197",
   "metadata": {},
   "outputs": [
    {
     "name": "stdout",
     "output_type": "stream",
     "text": [
      "Collecting scikit-learn\n",
      "  Downloading scikit_learn-1.3.1-cp39-cp39-win_amd64.whl (9.3 MB)\n",
      "Collecting threadpoolctl>=2.0.0\n",
      "  Downloading threadpoolctl-3.2.0-py3-none-any.whl (15 kB)\n",
      "Collecting scipy>=1.5.0\n",
      "  Downloading scipy-1.11.3-cp39-cp39-win_amd64.whl (44.3 MB)\n",
      "Requirement already satisfied: numpy<2.0,>=1.17.3 in f:\\coding\\projects\\infosec (pswd model)\\.env\\lib\\site-packages (from scikit-learn) (1.26.1)\n",
      "Collecting joblib>=1.1.1\n",
      "  Downloading joblib-1.3.2-py3-none-any.whl (302 kB)\n",
      "Installing collected packages: threadpoolctl, scipy, joblib, scikit-learn\n",
      "Successfully installed joblib-1.3.2 scikit-learn-1.3.1 scipy-1.11.3 threadpoolctl-3.2.0\n",
      "Note: you may need to restart the kernel to use updated packages.\n"
     ]
    },
    {
     "name": "stderr",
     "output_type": "stream",
     "text": [
      "WARNING: You are using pip version 20.2.3; however, version 23.3 is available.\n",
      "You should consider upgrading via the 'f:\\coding\\projects\\infosec (pswd model)\\.env\\scripts\\python.exe -m pip install --upgrade pip' command.\n"
     ]
    }
   ],
   "source": [
    "pip install scikit-learn"
   ]
  },
  {
   "cell_type": "code",
   "execution_count": 7,
   "id": "22d85131-905c-44bf-a279-ff6d67cfc1b4",
   "metadata": {},
   "outputs": [],
   "source": [
    "import pandas as pd\n",
    "import numpy as np\n",
    "import seaborn as sns\n",
    "import matplotlib.pyplot as plt"
   ]
  },
  {
   "cell_type": "code",
   "execution_count": 12,
   "id": "e008b8c9-f542-4647-8016-20f5a1df0a95",
   "metadata": {},
   "outputs": [],
   "source": [
    "from sklearn.feature_extraction.text import TfidfVectorizer\n",
    "from sklearn.model_selection import train_test_split"
   ]
  },
  {
   "cell_type": "markdown",
   "id": "49d585bd-14a0-4dcb-a7b7-228a164ebc89",
   "metadata": {},
   "source": [
    "Data Preparation"
   ]
  },
  {
   "cell_type": "code",
   "execution_count": 17,
   "id": "e8679fe1-ed9c-4598-ac41-169451d6ebb1",
   "metadata": {},
   "outputs": [],
   "source": [
    "data = pd.read_csv('data.csv',on_bad_lines='skip')"
   ]
  },
  {
   "cell_type": "code",
   "execution_count": 18,
   "id": "4af04b50-7da2-4ad1-8ece-13d9dbd0bb11",
   "metadata": {},
   "outputs": [
    {
     "data": {
      "text/html": [
       "<div>\n",
       "<style scoped>\n",
       "    .dataframe tbody tr th:only-of-type {\n",
       "        vertical-align: middle;\n",
       "    }\n",
       "\n",
       "    .dataframe tbody tr th {\n",
       "        vertical-align: top;\n",
       "    }\n",
       "\n",
       "    .dataframe thead th {\n",
       "        text-align: right;\n",
       "    }\n",
       "</style>\n",
       "<table border=\"1\" class=\"dataframe\">\n",
       "  <thead>\n",
       "    <tr style=\"text-align: right;\">\n",
       "      <th></th>\n",
       "      <th>password</th>\n",
       "      <th>strength</th>\n",
       "    </tr>\n",
       "  </thead>\n",
       "  <tbody>\n",
       "    <tr>\n",
       "      <th>0</th>\n",
       "      <td>kzde5577</td>\n",
       "      <td>1</td>\n",
       "    </tr>\n",
       "    <tr>\n",
       "      <th>1</th>\n",
       "      <td>kino3434</td>\n",
       "      <td>1</td>\n",
       "    </tr>\n",
       "    <tr>\n",
       "      <th>2</th>\n",
       "      <td>visi7k1yr</td>\n",
       "      <td>1</td>\n",
       "    </tr>\n",
       "    <tr>\n",
       "      <th>3</th>\n",
       "      <td>megzy123</td>\n",
       "      <td>1</td>\n",
       "    </tr>\n",
       "    <tr>\n",
       "      <th>4</th>\n",
       "      <td>lamborghin1</td>\n",
       "      <td>1</td>\n",
       "    </tr>\n",
       "  </tbody>\n",
       "</table>\n",
       "</div>"
      ],
      "text/plain": [
       "      password  strength\n",
       "0     kzde5577         1\n",
       "1     kino3434         1\n",
       "2    visi7k1yr         1\n",
       "3     megzy123         1\n",
       "4  lamborghin1         1"
      ]
     },
     "execution_count": 18,
     "metadata": {},
     "output_type": "execute_result"
    }
   ],
   "source": [
    "data.head()"
   ]
  },
  {
   "cell_type": "code",
   "execution_count": 19,
   "id": "2c5a12e9-f6c6-438b-84c6-7b6e7ff9d334",
   "metadata": {},
   "outputs": [
    {
     "data": {
      "text/html": [
       "<div>\n",
       "<style scoped>\n",
       "    .dataframe tbody tr th:only-of-type {\n",
       "        vertical-align: middle;\n",
       "    }\n",
       "\n",
       "    .dataframe tbody tr th {\n",
       "        vertical-align: top;\n",
       "    }\n",
       "\n",
       "    .dataframe thead th {\n",
       "        text-align: right;\n",
       "    }\n",
       "</style>\n",
       "<table border=\"1\" class=\"dataframe\">\n",
       "  <thead>\n",
       "    <tr style=\"text-align: right;\">\n",
       "      <th></th>\n",
       "      <th>password</th>\n",
       "      <th>strength</th>\n",
       "    </tr>\n",
       "  </thead>\n",
       "  <tbody>\n",
       "    <tr>\n",
       "      <th>669635</th>\n",
       "      <td>10redtux10</td>\n",
       "      <td>1</td>\n",
       "    </tr>\n",
       "    <tr>\n",
       "      <th>669636</th>\n",
       "      <td>infrared1</td>\n",
       "      <td>1</td>\n",
       "    </tr>\n",
       "    <tr>\n",
       "      <th>669637</th>\n",
       "      <td>184520socram</td>\n",
       "      <td>1</td>\n",
       "    </tr>\n",
       "    <tr>\n",
       "      <th>669638</th>\n",
       "      <td>marken22a</td>\n",
       "      <td>1</td>\n",
       "    </tr>\n",
       "    <tr>\n",
       "      <th>669639</th>\n",
       "      <td>fxx4pw4g</td>\n",
       "      <td>1</td>\n",
       "    </tr>\n",
       "  </tbody>\n",
       "</table>\n",
       "</div>"
      ],
      "text/plain": [
       "            password  strength\n",
       "669635    10redtux10         1\n",
       "669636     infrared1         1\n",
       "669637  184520socram         1\n",
       "669638     marken22a         1\n",
       "669639      fxx4pw4g         1"
      ]
     },
     "execution_count": 19,
     "metadata": {},
     "output_type": "execute_result"
    }
   ],
   "source": [
    "data.tail()"
   ]
  },
  {
   "cell_type": "code",
   "execution_count": 20,
   "id": "057ee001-9592-47a1-9f26-79b34389f069",
   "metadata": {},
   "outputs": [
    {
     "data": {
      "text/plain": [
       "(669640, 2)"
      ]
     },
     "execution_count": 20,
     "metadata": {},
     "output_type": "execute_result"
    }
   ],
   "source": [
    "data.shape"
   ]
  },
  {
   "cell_type": "code",
   "execution_count": 21,
   "id": "31c3a2ed-9e22-477b-9c6f-3f9e7590d03f",
   "metadata": {},
   "outputs": [
    {
     "data": {
      "text/plain": [
       "array([1, 2, 0], dtype=int64)"
      ]
     },
     "execution_count": 21,
     "metadata": {},
     "output_type": "execute_result"
    }
   ],
   "source": [
    "data[\"strength\"].unique()"
   ]
  },
  {
   "cell_type": "code",
   "execution_count": 23,
   "id": "661dbbde-9ee8-42f9-9646-4d5fe3fb1234",
   "metadata": {},
   "outputs": [
    {
     "data": {
      "text/plain": [
       "password    1\n",
       "strength    0\n",
       "dtype: int64"
      ]
     },
     "execution_count": 23,
     "metadata": {},
     "output_type": "execute_result"
    }
   ],
   "source": [
    "data.isnull().sum()"
   ]
  },
  {
   "cell_type": "code",
   "execution_count": 24,
   "id": "89ed4b54-8314-4840-afe0-124986cf8734",
   "metadata": {},
   "outputs": [],
   "source": [
    "data.dropna(inplace=True)"
   ]
  },
  {
   "cell_type": "code",
   "execution_count": 25,
   "id": "e087217f-e250-4d5b-a032-e976eade4790",
   "metadata": {},
   "outputs": [
    {
     "data": {
      "text/plain": [
       "password    0\n",
       "strength    0\n",
       "dtype: int64"
      ]
     },
     "execution_count": 25,
     "metadata": {},
     "output_type": "execute_result"
    }
   ],
   "source": [
    "data.isnull().sum()"
   ]
  },
  {
   "cell_type": "code",
   "execution_count": null,
   "id": "69ec37b9-306a-481c-a19c-a8cf94a05f10",
   "metadata": {},
   "outputs": [],
   "source": [
    "plt.figure(figsize=(14,7))\n",
    "sns.countplot(x='strength', data=data)\n",
    "plt.show()"
   ]
  },
  {
   "cell_type": "code",
   "execution_count": null,
   "id": "79df2575-6bbb-45a7-9d8b-5090c624c675",
   "metadata": {},
   "outputs": [],
   "source": [
    "pswd = np.array(data)\n",
    "pswd"
   ]
  },
  {
   "cell_type": "code",
   "execution_count": null,
   "id": "11f55adf-b437-4dab-adf2-43b030a12281",
   "metadata": {},
   "outputs": [],
   "source": [
    "import random\n",
    "random.shuffle(pswd)"
   ]
  },
  {
   "cell_type": "code",
   "execution_count": null,
   "id": "8dc7f44b-2910-46bd-bfd5-78de03214969",
   "metadata": {},
   "outputs": [],
   "source": [
    "X = [passwords[0] for passwords in pswd]\n",
    "Y = [passwords[1] for passwords in pswd]"
   ]
  },
  {
   "cell_type": "code",
   "execution_count": null,
   "id": "e3d73751-ff6a-4007-a084-898a8ea017c8",
   "metadata": {},
   "outputs": [],
   "source": [
    "X"
   ]
  },
  {
   "cell_type": "code",
   "execution_count": null,
   "id": "55f36d22-43b9-46b2-b702-e2fd3646f536",
   "metadata": {},
   "outputs": [],
   "source": [
    "def make_chars(inputs):\n",
    "    characters = []\n",
    "    for letter in inputs:\n",
    "        character.append(letter)\n",
    "    return characters\n",
    "make_chars('Manan')"
   ]
  },
  {
   "cell_type": "code",
   "execution_count": null,
   "id": "1958d943-7ef2-484e-90aa-58bbf3062bca",
   "metadata": {},
   "outputs": [],
   "source": [
    "vectorizer = TfidVectorizer(tokenizer=make_chars)"
   ]
  },
  {
   "cell_type": "code",
   "execution_count": null,
   "id": "acfcc9ee-f934-4d2d-9ad2-690c89177f81",
   "metadata": {},
   "outputs": [],
   "source": [
    "X = vectorizer.fit_transform(X)"
   ]
  },
  {
   "cell_type": "code",
   "execution_count": null,
   "id": "03de3a8a-c508-45ae-a70c-9f32312c4a50",
   "metadata": {},
   "outputs": [],
   "source": [
    "X.shape"
   ]
  },
  {
   "cell_type": "code",
   "execution_count": null,
   "id": "9d64267e-9344-48c7-8453-f571307bb49f",
   "metadata": {},
   "outputs": [],
   "source": [
    "vectorizer.get_feature_names()"
   ]
  },
  {
   "cell_type": "code",
   "execution_count": null,
   "id": "b514ad4d-a3f1-47b5-863b-7fb8ea9fb39f",
   "metadata": {},
   "outputs": [],
   "source": [
    "first = X[0].T.todense()"
   ]
  },
  {
   "cell_type": "code",
   "execution_count": null,
   "id": "ebc613b9-eeca-423f-8874-0ed4c99cd957",
   "metadata": {},
   "outputs": [],
   "source": [
    "vec = pd.DataFrame(first_,index=vectorizer.get_feature_names()"
   ]
  },
  {
   "cell_type": "code",
   "execution_count": null,
   "id": "0a6c3d87-e813-4834-9c6c-d6617581ecc6",
   "metadata": {},
   "outputs": [],
   "source": [
    "X_train, X_test, y_train, y_test = train_test_split(X, y, test_size=0.2, random_state=42)"
   ]
  },
  {
   "cell_type": "code",
   "execution_count": null,
   "id": "2a5cc1d9-c0f7-49b6-b807-be9c4d7c51eb",
   "metadata": {},
   "outputs": [],
   "source": [
    "X_train.shape, X_test.shape"
   ]
  },
  {
   "cell_type": "markdown",
   "id": "03cee227-6a8d-4eab-9f7b-fbb76b3296b6",
   "metadata": {},
   "source": [
    "Model Training"
   ]
  },
  {
   "cell_type": "code",
   "execution_count": null,
   "id": "9be8da62-354a-4142-bbcc-26efc33166c8",
   "metadata": {},
   "outputs": [],
   "source": [
    "import xgboost as xgb"
   ]
  },
  {
   "cell_type": "code",
   "execution_count": null,
   "id": "8a572ad9-d09a-49b7-ba5b-6524dae4c68d",
   "metadata": {},
   "outputs": [],
   "source": [
    "xgb_classifier = xgb.XGBClassifier()\n"
   ]
  },
  {
   "cell_type": "code",
   "execution_count": null,
   "id": "18a7a1cc-3c79-4880-a32f-7839656a3e3a",
   "metadata": {},
   "outputs": [],
   "source": [
    "xgb_classifier.fit(X_train, y_train)"
   ]
  },
  {
   "cell_type": "code",
   "execution_count": null,
   "id": "796b9919-0a7f-4947-9008-61fe36b8936f",
   "metadata": {},
   "outputs": [],
   "source": [
    "pred = xgb_classifier.predict(X_test)"
   ]
  },
  {
   "cell_type": "code",
   "execution_count": null,
   "id": "557662f0-7fad-4973-882e-ba91b9410e04",
   "metadata": {},
   "outputs": [],
   "source": [
    "from sklearn.metrics import confusion_matrix, classification_report"
   ]
  },
  {
   "cell_type": "code",
   "execution_count": null,
   "id": "59d03c95-1f90-4067-9d6f-362110872a65",
   "metadata": {},
   "outputs": [],
   "source": [
    "confusion_matrix(y_test,pred)"
   ]
  },
  {
   "cell_type": "code",
   "execution_count": null,
   "id": "17e9aa58-ec09-47b1-a1d3-b607dc38b8cc",
   "metadata": {},
   "outputs": [],
   "source": [
    "print(classification_report(y_test,pred))"
   ]
  },
  {
   "cell_type": "markdown",
   "id": "e7578c41-5d00-4748-b916-72dd40b5749b",
   "metadata": {},
   "source": [
    "Saving and Predicting on Model"
   ]
  },
  {
   "cell_type": "code",
   "execution_count": null,
   "id": "297ab18a-d3eb-4f16-a8f8-0705ec53414b",
   "metadata": {},
   "outputs": [],
   "source": [
    "import dill\n",
    "model_file = open(\"xgb_classifier.pkl\", \"wb\")\n",
    "dill.dump(xgb_classifier, model_file)\n",
    "model_file.close()"
   ]
  },
  {
   "cell_type": "code",
   "execution_count": null,
   "id": "4df14cc5-b5f6-4851-8e5c-de555113edd0",
   "metadata": {},
   "outputs": [],
   "source": [
    "dill.dump(vectorizer, open(\"vectorizer.pkl\", \"wb\"))"
   ]
  },
  {
   "cell_type": "code",
   "execution_count": null,
   "id": "dae17843-f5b1-49e2-9cfe-9cd2ed824e31",
   "metadata": {},
   "outputs": [],
   "source": [
    "temp_pswd = \"123\"\n",
    "temp_pswd = vectorizer.transform([temp_pswd])"
   ]
  },
  {
   "cell_type": "code",
   "execution_count": null,
   "id": "5551edf4-7f6c-41fb-8ca4-af4500afdd1d",
   "metadata": {},
   "outputs": [],
   "source": [
    "xgb_classifier.predict(temp_pswd)"
   ]
  },
  {
   "cell_type": "code",
   "execution_count": null,
   "id": "b515231e-2201-423c-84c6-0c070cdd2c51",
   "metadata": {},
   "outputs": [],
   "source": [
    "xgb_classifier.predict_proba(temp_pswd)[0]"
   ]
  }
 ],
 "metadata": {
  "kernelspec": {
   "display_name": "Python 3 (ipykernel)",
   "language": "python",
   "name": "python3"
  },
  "language_info": {
   "codemirror_mode": {
    "name": "ipython",
    "version": 3
   },
   "file_extension": ".py",
   "mimetype": "text/x-python",
   "name": "python",
   "nbconvert_exporter": "python",
   "pygments_lexer": "ipython3",
   "version": "3.9.4"
  }
 },
 "nbformat": 4,
 "nbformat_minor": 5
}
